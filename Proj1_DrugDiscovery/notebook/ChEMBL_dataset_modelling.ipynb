{
 "cells": [
  {
   "cell_type": "code",
   "execution_count": 136,
   "metadata": {},
   "outputs": [],
   "source": [
    "%matplotlib inline\n",
    "import pandas as pd\n",
    "import numpy as np\n",
    "from sklearn.feature_selection import VarianceThreshold\n",
    "from sklearn.model_selection import train_test_split\n",
    "import matplotlib.pyplot as plt\n",
    "from sklearn.ensemble import RandomForestRegressor\n",
    "from sklearn.metrics import mean_squared_error, r2_score\n",
    "from sklearn import datasets, linear_model\n",
    "from sklearn.preprocessing import PolynomialFeatures,normalize,scale,MinMaxScaler\n",
    "from sklearn.feature_selection import SelectKBest,chi2,f_regression,VarianceThreshold"
   ]
  },
  {
   "cell_type": "code",
   "execution_count": 137,
   "metadata": {},
   "outputs": [],
   "source": [
    "df = pd.read_csv('final_draft.csv', delimiter = \",\")"
   ]
  },
  {
   "cell_type": "code",
   "execution_count": 138,
   "metadata": {},
   "outputs": [
    {
     "data": {
      "text/html": [
       "<div>\n",
       "<style scoped>\n",
       "    .dataframe tbody tr th:only-of-type {\n",
       "        vertical-align: middle;\n",
       "    }\n",
       "\n",
       "    .dataframe tbody tr th {\n",
       "        vertical-align: top;\n",
       "    }\n",
       "\n",
       "    .dataframe thead th {\n",
       "        text-align: right;\n",
       "    }\n",
       "</style>\n",
       "<table border=\"1\" class=\"dataframe\">\n",
       "  <thead>\n",
       "    <tr style=\"text-align: right;\">\n",
       "      <th></th>\n",
       "      <th>0</th>\n",
       "      <th>1</th>\n",
       "      <th>2</th>\n",
       "      <th>3</th>\n",
       "      <th>4</th>\n",
       "      <th>5</th>\n",
       "      <th>6</th>\n",
       "      <th>7</th>\n",
       "      <th>8</th>\n",
       "      <th>9</th>\n",
       "      <th>...</th>\n",
       "      <th>827</th>\n",
       "      <th>828</th>\n",
       "      <th>829</th>\n",
       "      <th>830</th>\n",
       "      <th>831</th>\n",
       "      <th>832</th>\n",
       "      <th>833</th>\n",
       "      <th>834</th>\n",
       "      <th>835</th>\n",
       "      <th>836</th>\n",
       "    </tr>\n",
       "  </thead>\n",
       "  <tbody>\n",
       "    <tr>\n",
       "      <th>0</th>\n",
       "      <td>-1.326585</td>\n",
       "      <td>-1.026359</td>\n",
       "      <td>-0.421899</td>\n",
       "      <td>-0.191650</td>\n",
       "      <td>-1.260311</td>\n",
       "      <td>-1.264579</td>\n",
       "      <td>-0.984903</td>\n",
       "      <td>-1.257058</td>\n",
       "      <td>0.138897</td>\n",
       "      <td>-0.653927</td>\n",
       "      <td>...</td>\n",
       "      <td>-1.442468</td>\n",
       "      <td>0.898685</td>\n",
       "      <td>-1.350538</td>\n",
       "      <td>-0.471825</td>\n",
       "      <td>-1.328325</td>\n",
       "      <td>-0.302646</td>\n",
       "      <td>-1.300056</td>\n",
       "      <td>-1.331751</td>\n",
       "      <td>-1.297951</td>\n",
       "      <td>-1.177475</td>\n",
       "    </tr>\n",
       "    <tr>\n",
       "      <th>1</th>\n",
       "      <td>-1.326585</td>\n",
       "      <td>-1.026359</td>\n",
       "      <td>-0.421899</td>\n",
       "      <td>-0.191650</td>\n",
       "      <td>-1.260311</td>\n",
       "      <td>-1.264579</td>\n",
       "      <td>-0.984903</td>\n",
       "      <td>-1.257058</td>\n",
       "      <td>0.138897</td>\n",
       "      <td>-0.653927</td>\n",
       "      <td>...</td>\n",
       "      <td>-1.442468</td>\n",
       "      <td>0.898685</td>\n",
       "      <td>-1.350538</td>\n",
       "      <td>-0.471825</td>\n",
       "      <td>-1.328325</td>\n",
       "      <td>-0.302646</td>\n",
       "      <td>-1.300056</td>\n",
       "      <td>-1.331751</td>\n",
       "      <td>-1.297951</td>\n",
       "      <td>-1.177475</td>\n",
       "    </tr>\n",
       "    <tr>\n",
       "      <th>2</th>\n",
       "      <td>-1.326585</td>\n",
       "      <td>-1.026359</td>\n",
       "      <td>-0.421899</td>\n",
       "      <td>-0.191650</td>\n",
       "      <td>-1.260311</td>\n",
       "      <td>-1.264579</td>\n",
       "      <td>-0.926305</td>\n",
       "      <td>-1.257058</td>\n",
       "      <td>-0.166677</td>\n",
       "      <td>-0.558653</td>\n",
       "      <td>...</td>\n",
       "      <td>-1.442468</td>\n",
       "      <td>0.898685</td>\n",
       "      <td>-1.350538</td>\n",
       "      <td>-0.471825</td>\n",
       "      <td>-1.337363</td>\n",
       "      <td>-0.500504</td>\n",
       "      <td>-1.300056</td>\n",
       "      <td>-1.331751</td>\n",
       "      <td>-1.297951</td>\n",
       "      <td>-1.177475</td>\n",
       "    </tr>\n",
       "    <tr>\n",
       "      <th>3</th>\n",
       "      <td>-0.868484</td>\n",
       "      <td>-0.623714</td>\n",
       "      <td>-0.421899</td>\n",
       "      <td>-0.191650</td>\n",
       "      <td>-0.651187</td>\n",
       "      <td>-0.529777</td>\n",
       "      <td>-0.691911</td>\n",
       "      <td>-0.877819</td>\n",
       "      <td>0.138897</td>\n",
       "      <td>-0.463379</td>\n",
       "      <td>...</td>\n",
       "      <td>-0.414769</td>\n",
       "      <td>0.931158</td>\n",
       "      <td>-0.264608</td>\n",
       "      <td>-0.073928</td>\n",
       "      <td>-0.983094</td>\n",
       "      <td>-0.366244</td>\n",
       "      <td>-0.646346</td>\n",
       "      <td>-0.781417</td>\n",
       "      <td>-0.663325</td>\n",
       "      <td>-0.865033</td>\n",
       "    </tr>\n",
       "    <tr>\n",
       "      <th>4</th>\n",
       "      <td>-1.326585</td>\n",
       "      <td>-1.110277</td>\n",
       "      <td>-0.421899</td>\n",
       "      <td>-0.191650</td>\n",
       "      <td>-1.108030</td>\n",
       "      <td>-1.117619</td>\n",
       "      <td>-0.984903</td>\n",
       "      <td>-1.257058</td>\n",
       "      <td>-0.166677</td>\n",
       "      <td>-0.653927</td>\n",
       "      <td>...</td>\n",
       "      <td>-1.294610</td>\n",
       "      <td>0.748624</td>\n",
       "      <td>-1.134338</td>\n",
       "      <td>-0.610018</td>\n",
       "      <td>-1.328427</td>\n",
       "      <td>-0.302894</td>\n",
       "      <td>-1.154787</td>\n",
       "      <td>-1.331751</td>\n",
       "      <td>-1.297951</td>\n",
       "      <td>-1.177475</td>\n",
       "    </tr>\n",
       "    <tr>\n",
       "      <th>...</th>\n",
       "      <td>...</td>\n",
       "      <td>...</td>\n",
       "      <td>...</td>\n",
       "      <td>...</td>\n",
       "      <td>...</td>\n",
       "      <td>...</td>\n",
       "      <td>...</td>\n",
       "      <td>...</td>\n",
       "      <td>...</td>\n",
       "      <td>...</td>\n",
       "      <td>...</td>\n",
       "      <td>...</td>\n",
       "      <td>...</td>\n",
       "      <td>...</td>\n",
       "      <td>...</td>\n",
       "      <td>...</td>\n",
       "      <td>...</td>\n",
       "      <td>...</td>\n",
       "      <td>...</td>\n",
       "      <td>...</td>\n",
       "      <td>...</td>\n",
       "    </tr>\n",
       "    <tr>\n",
       "      <th>230</th>\n",
       "      <td>1.110776</td>\n",
       "      <td>0.939845</td>\n",
       "      <td>1.854764</td>\n",
       "      <td>-0.191650</td>\n",
       "      <td>1.480746</td>\n",
       "      <td>1.380709</td>\n",
       "      <td>0.362859</td>\n",
       "      <td>1.018376</td>\n",
       "      <td>-0.166677</td>\n",
       "      <td>-0.177556</td>\n",
       "      <td>...</td>\n",
       "      <td>1.006402</td>\n",
       "      <td>0.901534</td>\n",
       "      <td>0.889859</td>\n",
       "      <td>1.427661</td>\n",
       "      <td>0.660803</td>\n",
       "      <td>0.049657</td>\n",
       "      <td>1.024248</td>\n",
       "      <td>1.169764</td>\n",
       "      <td>1.240554</td>\n",
       "      <td>1.025242</td>\n",
       "    </tr>\n",
       "    <tr>\n",
       "      <th>231</th>\n",
       "      <td>1.110776</td>\n",
       "      <td>0.939845</td>\n",
       "      <td>1.854764</td>\n",
       "      <td>-0.191650</td>\n",
       "      <td>1.480746</td>\n",
       "      <td>1.380709</td>\n",
       "      <td>0.538654</td>\n",
       "      <td>1.018376</td>\n",
       "      <td>-0.166677</td>\n",
       "      <td>0.108266</td>\n",
       "      <td>...</td>\n",
       "      <td>1.006402</td>\n",
       "      <td>0.901534</td>\n",
       "      <td>0.889859</td>\n",
       "      <td>1.427661</td>\n",
       "      <td>0.706348</td>\n",
       "      <td>-0.200218</td>\n",
       "      <td>1.024248</td>\n",
       "      <td>1.169764</td>\n",
       "      <td>1.240554</td>\n",
       "      <td>1.025242</td>\n",
       "    </tr>\n",
       "    <tr>\n",
       "      <th>232</th>\n",
       "      <td>1.597157</td>\n",
       "      <td>2.358793</td>\n",
       "      <td>4.131427</td>\n",
       "      <td>-0.191650</td>\n",
       "      <td>-2.021716</td>\n",
       "      <td>-1.999381</td>\n",
       "      <td>2.120810</td>\n",
       "      <td>1.903267</td>\n",
       "      <td>3.194634</td>\n",
       "      <td>2.013748</td>\n",
       "      <td>...</td>\n",
       "      <td>0.461878</td>\n",
       "      <td>-1.296706</td>\n",
       "      <td>0.122987</td>\n",
       "      <td>0.606895</td>\n",
       "      <td>1.978937</td>\n",
       "      <td>-0.884866</td>\n",
       "      <td>1.169517</td>\n",
       "      <td>1.269825</td>\n",
       "      <td>0.923240</td>\n",
       "      <td>2.071923</td>\n",
       "    </tr>\n",
       "    <tr>\n",
       "      <th>233</th>\n",
       "      <td>0.549548</td>\n",
       "      <td>0.796179</td>\n",
       "      <td>-0.421899</td>\n",
       "      <td>-0.191650</td>\n",
       "      <td>-2.021716</td>\n",
       "      <td>-1.999381</td>\n",
       "      <td>1.183236</td>\n",
       "      <td>0.639137</td>\n",
       "      <td>1.361192</td>\n",
       "      <td>1.442103</td>\n",
       "      <td>...</td>\n",
       "      <td>0.100058</td>\n",
       "      <td>0.610537</td>\n",
       "      <td>-0.115683</td>\n",
       "      <td>0.847670</td>\n",
       "      <td>0.797866</td>\n",
       "      <td>-1.002683</td>\n",
       "      <td>0.080000</td>\n",
       "      <td>0.419310</td>\n",
       "      <td>0.225152</td>\n",
       "      <td>0.650311</td>\n",
       "    </tr>\n",
       "    <tr>\n",
       "      <th>234</th>\n",
       "      <td>1.101848</td>\n",
       "      <td>1.472530</td>\n",
       "      <td>1.854764</td>\n",
       "      <td>0.753383</td>\n",
       "      <td>-2.021716</td>\n",
       "      <td>-1.999381</td>\n",
       "      <td>1.534826</td>\n",
       "      <td>1.271202</td>\n",
       "      <td>2.889060</td>\n",
       "      <td>1.537377</td>\n",
       "      <td>...</td>\n",
       "      <td>0.734922</td>\n",
       "      <td>0.610537</td>\n",
       "      <td>0.515108</td>\n",
       "      <td>1.357255</td>\n",
       "      <td>1.741905</td>\n",
       "      <td>-0.461819</td>\n",
       "      <td>0.661076</td>\n",
       "      <td>1.019674</td>\n",
       "      <td>0.817469</td>\n",
       "      <td>0.993998</td>\n",
       "    </tr>\n",
       "  </tbody>\n",
       "</table>\n",
       "<p>235 rows × 837 columns</p>\n",
       "</div>"
      ],
      "text/plain": [
       "            0         1         2         3         4         5         6  \\\n",
       "0   -1.326585 -1.026359 -0.421899 -0.191650 -1.260311 -1.264579 -0.984903   \n",
       "1   -1.326585 -1.026359 -0.421899 -0.191650 -1.260311 -1.264579 -0.984903   \n",
       "2   -1.326585 -1.026359 -0.421899 -0.191650 -1.260311 -1.264579 -0.926305   \n",
       "3   -0.868484 -0.623714 -0.421899 -0.191650 -0.651187 -0.529777 -0.691911   \n",
       "4   -1.326585 -1.110277 -0.421899 -0.191650 -1.108030 -1.117619 -0.984903   \n",
       "..        ...       ...       ...       ...       ...       ...       ...   \n",
       "230  1.110776  0.939845  1.854764 -0.191650  1.480746  1.380709  0.362859   \n",
       "231  1.110776  0.939845  1.854764 -0.191650  1.480746  1.380709  0.538654   \n",
       "232  1.597157  2.358793  4.131427 -0.191650 -2.021716 -1.999381  2.120810   \n",
       "233  0.549548  0.796179 -0.421899 -0.191650 -2.021716 -1.999381  1.183236   \n",
       "234  1.101848  1.472530  1.854764  0.753383 -2.021716 -1.999381  1.534826   \n",
       "\n",
       "            7         8         9  ...       827       828       829  \\\n",
       "0   -1.257058  0.138897 -0.653927  ... -1.442468  0.898685 -1.350538   \n",
       "1   -1.257058  0.138897 -0.653927  ... -1.442468  0.898685 -1.350538   \n",
       "2   -1.257058 -0.166677 -0.558653  ... -1.442468  0.898685 -1.350538   \n",
       "3   -0.877819  0.138897 -0.463379  ... -0.414769  0.931158 -0.264608   \n",
       "4   -1.257058 -0.166677 -0.653927  ... -1.294610  0.748624 -1.134338   \n",
       "..        ...       ...       ...  ...       ...       ...       ...   \n",
       "230  1.018376 -0.166677 -0.177556  ...  1.006402  0.901534  0.889859   \n",
       "231  1.018376 -0.166677  0.108266  ...  1.006402  0.901534  0.889859   \n",
       "232  1.903267  3.194634  2.013748  ...  0.461878 -1.296706  0.122987   \n",
       "233  0.639137  1.361192  1.442103  ...  0.100058  0.610537 -0.115683   \n",
       "234  1.271202  2.889060  1.537377  ...  0.734922  0.610537  0.515108   \n",
       "\n",
       "          830       831       832       833       834       835       836  \n",
       "0   -0.471825 -1.328325 -0.302646 -1.300056 -1.331751 -1.297951 -1.177475  \n",
       "1   -0.471825 -1.328325 -0.302646 -1.300056 -1.331751 -1.297951 -1.177475  \n",
       "2   -0.471825 -1.337363 -0.500504 -1.300056 -1.331751 -1.297951 -1.177475  \n",
       "3   -0.073928 -0.983094 -0.366244 -0.646346 -0.781417 -0.663325 -0.865033  \n",
       "4   -0.610018 -1.328427 -0.302894 -1.154787 -1.331751 -1.297951 -1.177475  \n",
       "..        ...       ...       ...       ...       ...       ...       ...  \n",
       "230  1.427661  0.660803  0.049657  1.024248  1.169764  1.240554  1.025242  \n",
       "231  1.427661  0.706348 -0.200218  1.024248  1.169764  1.240554  1.025242  \n",
       "232  0.606895  1.978937 -0.884866  1.169517  1.269825  0.923240  2.071923  \n",
       "233  0.847670  0.797866 -1.002683  0.080000  0.419310  0.225152  0.650311  \n",
       "234  1.357255  1.741905 -0.461819  0.661076  1.019674  0.817469  0.993998  \n",
       "\n",
       "[235 rows x 837 columns]"
      ]
     },
     "execution_count": 138,
     "metadata": {},
     "output_type": "execute_result"
    }
   ],
   "source": [
    "X = df.drop('pIC50', axis=1)\n",
    "X"
   ]
  },
  {
   "cell_type": "code",
   "execution_count": 139,
   "metadata": {},
   "outputs": [
    {
     "data": {
      "text/plain": [
       "0      4.000000\n",
       "1      4.000000\n",
       "2      4.000000\n",
       "3      4.000000\n",
       "4      4.000000\n",
       "         ...   \n",
       "230    4.000000\n",
       "231    4.114978\n",
       "232    4.749092\n",
       "233    4.399354\n",
       "234    4.858237\n",
       "Name: pIC50, Length: 235, dtype: float64"
      ]
     },
     "execution_count": 139,
     "metadata": {},
     "output_type": "execute_result"
    }
   ],
   "source": [
    "y = df.pIC50\n",
    "y"
   ]
  },
  {
   "cell_type": "code",
   "execution_count": 140,
   "metadata": {},
   "outputs": [
    {
     "data": {
      "text/plain": [
       "(235, 837)"
      ]
     },
     "execution_count": 140,
     "metadata": {},
     "output_type": "execute_result"
    }
   ],
   "source": [
    "X.shape"
   ]
  },
  {
   "cell_type": "code",
   "execution_count": 141,
   "metadata": {},
   "outputs": [
    {
     "data": {
      "text/plain": [
       "(235,)"
      ]
     },
     "execution_count": 141,
     "metadata": {},
     "output_type": "execute_result"
    }
   ],
   "source": [
    "y.shape"
   ]
  },
  {
   "cell_type": "code",
   "execution_count": 142,
   "metadata": {},
   "outputs": [],
   "source": [
    "#removing low variance features\n",
    "selection = VarianceThreshold(threshold=(.8 * (1 - .8)))    \n",
    "X = selection.fit_transform(X)"
   ]
  },
  {
   "cell_type": "code",
   "execution_count": 143,
   "metadata": {},
   "outputs": [
    {
     "data": {
      "text/plain": [
       "(235, 837)"
      ]
     },
     "execution_count": 143,
     "metadata": {},
     "output_type": "execute_result"
    }
   ],
   "source": [
    "X.shape"
   ]
  },
  {
   "cell_type": "code",
   "execution_count": 144,
   "metadata": {},
   "outputs": [],
   "source": [
    "### Train Test Split(80/20 ratio) ###"
   ]
  },
  {
   "cell_type": "code",
   "execution_count": 145,
   "metadata": {},
   "outputs": [],
   "source": [
    "X_train, X_test, y_train, y_test = train_test_split(X, y, test_size=0.2)"
   ]
  },
  {
   "cell_type": "code",
   "execution_count": 146,
   "metadata": {},
   "outputs": [
    {
     "data": {
      "text/plain": [
       "((188, 837), (188,))"
      ]
     },
     "execution_count": 146,
     "metadata": {},
     "output_type": "execute_result"
    }
   ],
   "source": [
    "X_train.shape, y_train.shape"
   ]
  },
  {
   "cell_type": "code",
   "execution_count": 147,
   "metadata": {},
   "outputs": [
    {
     "data": {
      "text/plain": [
       "((47, 837), (47,))"
      ]
     },
     "execution_count": 147,
     "metadata": {},
     "output_type": "execute_result"
    }
   ],
   "source": [
    "X_test.shape, y_test.shape"
   ]
  },
  {
   "cell_type": "code",
   "execution_count": 148,
   "metadata": {},
   "outputs": [
    {
     "name": "stdout",
     "output_type": "stream",
     "text": [
      "0.556366870547218\n"
     ]
    }
   ],
   "source": [
    "# Linear Regression Model\n",
    "\n",
    "lr = linear_model.LinearRegression(fit_intercept=True)\n",
    "lr.fit(X_train, y_train)\n",
    "r2 = model.score(X_test, y_test)\n",
    "print(r2)\n",
    "\n",
    "y_pred = lr.predict(X_test)"
   ]
  },
  {
   "cell_type": "code",
   "execution_count": 150,
   "metadata": {},
   "outputs": [
    {
     "data": {
      "text/plain": [
       "0.09545087449930278"
      ]
     },
     "execution_count": 150,
     "metadata": {},
     "output_type": "execute_result"
    }
   ],
   "source": [
    "# Building Random Forest Regression model first\n",
    "\n",
    "model = RandomForestRegressor(n_estimators=100)\n",
    "model.fit(X_train, y_train)\n",
    "r2 = model.score(X_test, y_test)\n",
    "r2"
   ]
  },
  {
   "cell_type": "code",
   "execution_count": 151,
   "metadata": {},
   "outputs": [],
   "source": [
    "y_pred = model.predict(X_test)"
   ]
  },
  {
   "cell_type": "code",
   "execution_count": 152,
   "metadata": {},
   "outputs": [
    {
     "data": {
      "text/plain": [
       "0.7421200483174387"
      ]
     },
     "execution_count": 152,
     "metadata": {},
     "output_type": "execute_result"
    }
   ],
   "source": [
    "mean_squared_error(y_test,y_pred)"
   ]
  },
  {
   "cell_type": "code",
   "execution_count": null,
   "metadata": {},
   "outputs": [],
   "source": []
  }
 ],
 "metadata": {
  "kernelspec": {
   "display_name": "Python 3",
   "language": "python",
   "name": "python3"
  },
  "language_info": {
   "codemirror_mode": {
    "name": "ipython",
    "version": 3
   },
   "file_extension": ".py",
   "mimetype": "text/x-python",
   "name": "python",
   "nbconvert_exporter": "python",
   "pygments_lexer": "ipython3",
   "version": "3.6.12"
  }
 },
 "nbformat": 4,
 "nbformat_minor": 4
}
